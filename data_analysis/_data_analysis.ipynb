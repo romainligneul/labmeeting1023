{
  "cells": [
    {
      "cell_type": "raw",
      "id": "5fef7c27",
      "metadata": {},
      "source": [
        "---\n",
        "execute:\n",
        "  echo: false\n",
        "  daemon: true\n",
        "---"
      ]
    },
    {
      "cell_type": "markdown",
      "metadata": {},
      "source": []
    },
    {
      "cell_type": "code",
      "execution_count": 1,
      "id": "74b5b630",
      "metadata": {},
      "outputs": [
        {
          "ename": "ModuleNotFoundError",
          "evalue": "No module named 'pandas'",
          "output_type": "error",
          "traceback": [
            "\u001b[0;31m---------------------------------------------------------------------------\u001b[0m",
            "\u001b[0;31mModuleNotFoundError\u001b[0m                       Traceback (most recent call last)",
            "\u001b[1;32m/home/romain/labmeeting1023/data_analysis/_data_analysis.ipynb Cell 2\u001b[0m line \u001b[0;36m3\n\u001b[1;32m      <a href='vscode-notebook-cell://ssh-remote%2Brobustcircuit.eu/home/romain/labmeeting1023/data_analysis/_data_analysis.ipynb#W1sdnNjb2RlLXJlbW90ZQ%3D%3D?line=0'>1</a>\u001b[0m \u001b[39m# Extract Google Form data\u001b[39;00m\n\u001b[0;32m----> <a href='vscode-notebook-cell://ssh-remote%2Brobustcircuit.eu/home/romain/labmeeting1023/data_analysis/_data_analysis.ipynb#W1sdnNjb2RlLXJlbW90ZQ%3D%3D?line=2'>3</a>\u001b[0m \u001b[39mimport\u001b[39;00m \u001b[39mpandas\u001b[39;00m \u001b[39mas\u001b[39;00m \u001b[39mpd\u001b[39;00m\n\u001b[1;32m      <a href='vscode-notebook-cell://ssh-remote%2Brobustcircuit.eu/home/romain/labmeeting1023/data_analysis/_data_analysis.ipynb#W1sdnNjb2RlLXJlbW90ZQ%3D%3D?line=4'>5</a>\u001b[0m \u001b[39mdef\u001b[39;00m \u001b[39mbuild_sheet_url\u001b[39m(doc_id, sheet_id):\n\u001b[1;32m      <a href='vscode-notebook-cell://ssh-remote%2Brobustcircuit.eu/home/romain/labmeeting1023/data_analysis/_data_analysis.ipynb#W1sdnNjb2RlLXJlbW90ZQ%3D%3D?line=5'>6</a>\u001b[0m     \u001b[39mreturn\u001b[39;00m \u001b[39mf\u001b[39m\u001b[39m'\u001b[39m\u001b[39mhttps://docs.google.com/spreadsheets/d/\u001b[39m\u001b[39m{\u001b[39;00mdoc_id\u001b[39m}\u001b[39;00m\u001b[39m/export?format=csv&gid=\u001b[39m\u001b[39m{\u001b[39;00msheet_id\u001b[39m}\u001b[39;00m\u001b[39m'\u001b[39m\n",
            "\u001b[0;31mModuleNotFoundError\u001b[0m: No module named 'pandas'"
          ]
        }
      ],
      "source": [
        "# Extract Google Form data\n",
        "\n",
        "import pandas as pd\n",
        "\n",
        "def build_sheet_url(doc_id, sheet_id):\n",
        "    return f'https://docs.google.com/spreadsheets/d/{doc_id}/export?format=csv&gid={sheet_id}'\n",
        "\n",
        "doc_id = '12tKDMK9E6dvlTWC7QjwXldbV-W2ijflw0LbUoJ3jXE0'\n",
        "sheet_id = '480847614'\n",
        "sheet_url = build_sheet_url(doc_id, sheet_id)\n",
        "df = pd.read_csv(sheet_url)\n",
        "file_path = 'rawdata/COPHYworkflows.csv'\n",
        "df.to_csv(file_path)"
      ]
    },
    {
      "cell_type": "code",
      "execution_count": null,
      "id": "45d333e5",
      "metadata": {},
      "outputs": [],
      "source": [
        "# Preprocess the data\n",
        "\n",
        "df['How many hours per worked week have you spent writing papers, proposals or reports in the last 6 months, on average? '] = df['How many hours per worked week have you spent writing papers, proposals or reports in the last 6 months, on average? '].replace(\n",
        "    {'Less than 30 minutes per weak':'< 0.5h',\n",
        "     'Between 30 minutes and 2 hours per week':'0.5 to 2h',\n",
        "     'Between 2 hours and 8 hours': '2 to 8h',\n",
        "     'Between 8 hours and 16 hours': '8 to 16h',\n",
        "     'Between 16 hours and 24 hours':'16 to 24h',\n",
        "     'More than 24 hours':'> 24h'})\n",
        "\n",
        "df['How many hours per worked week have you spent writing code in the last 6 months, on average?'] = df['How many hours per worked week have you spent writing code in the last 6 months, on average?'].replace(\n",
        "    {'Less than 30 minutes per weak':'< 0.5h',\n",
        "     'Between 30 minutes and 2 hours per week':'0.5 to 2h',\n",
        "     'Between 2 hours and 8 hours': '2 to 8h',\n",
        "     'Between 8 hours and 16 hours': '8 to 16h',\n",
        "     'Between 16 hours and 24 hours':'16 to 24h',\n",
        "     'More than 24 hours':'> 24h'})\n",
        "\n",
        "writingTime=df['How many hours per worked week have you spent writing papers, proposals or reports in the last 6 months, on average? ']\n",
        "\n",
        "refManager='Which reference manager do you use, mainly?'\n",
        "changeManager=\"If you don't use it already, would you consider to change your reference manager and move to Zotero?\"\n",
        "df=df.rename(columns={refManager: \"Manager\", changeManager: \"Willing to change\"})\n",
        "\n",
        "df.columns = [x.replace(\"\\n\", \" \") for x in df.columns.to_list()]\n",
        "codeEditor='Which code editor(s) do you use? Multiple answers are possible'\n",
        "df=df.rename(columns={codeEditor: \"codeEditor\"})\n",
        "useGit='Regarding Git-based version control  (e.g. Github, Gitlab, Bitbucket, etc)'\n",
        "df=df.rename(columns={useGit: \"useGit\"})\n",
        "\n",
        "\n",
        "df['useGit'] = df['useGit'].replace(\n",
        "    {'You never (or almost never) use Git':'No',\n",
        "     'You have your own Git repositories: you add, commit, push and pull!':'Yes',\n",
        "     'You mostly clone the Git repositories of others': 'No'})\n",
        "\n",
        "print(df.columns)\n",
        "responsesTimeSpent=['< 0.5h',\n",
        "    '0.5 to 2h',\n",
        "    '2 to 8h',\n",
        "    '8 to 16h',\n",
        "    '16 to 24h',\n",
        "    '> 24h']\n",
        "\n",
        "respWriting=[]\n",
        "for resp in writingTime:\n",
        "    respWriting.append(responsesTimeSpent.index(resp))\n",
        "\n",
        "codingTime=df['How many hours per worked week have you spent writing code in the last 6 months, on average?']\n",
        "\n",
        "respCoding=[]\n",
        "for resp in codingTime:\n",
        "    respCoding.append(responsesTimeSpent.index(resp))\n",
        "\n",
        "collaborativeHappiness=df['How happy are you about the collaborative process when it comes to writing or coding with colleagues']\n",
        "\n",
        "workflowHappiness=df['How happy are you about the way your workflows are organized when you are on the computer?']"
      ]
    },
    {
      "cell_type": "code",
      "execution_count": null,
      "id": "7e786166",
      "metadata": {},
      "outputs": [],
      "source": [
        "# plot coding time\n",
        "import numpy as np\n",
        "import patchworklib as pw\n",
        "\n",
        "from plotnine import *\n",
        "\n",
        "happinessValues=np.append(collaborativeHappiness.values,workflowHappiness.values)\n",
        "collabLabel=np.chararray((len(collaborativeHappiness.values), 1),50)\n",
        "workflowLabel=np.chararray((len(workflowHappiness.values), 1),50)\n",
        "collabLabel[:]='collaboration'\n",
        "workflowLabel[:]='workflow'\n",
        "happinessLabels=np.append(collabLabel,workflowLabel)\n",
        "dict_of_arrs = {\"Item\": happinessLabels, \"Happiness\": happinessValues}\n",
        "dfPlot = pd.DataFrame(dict_of_arrs)\n",
        "dfPlot['Item'] = dfPlot['Item'].str.decode('utf-8') "
      ]
    },
    {
      "cell_type": "code",
      "execution_count": null,
      "id": "f1f5c3ab",
      "metadata": {},
      "outputs": [],
      "source": [
        "g = (\n",
        "    ggplot(df, aes(x = \"Manager\", y = after_stat('count')))\n",
        "    + stat_bin(binwidth = 1)\n",
        "    + scale_fill_manual(values=['Purple'])\n",
        "    + theme_classic() + theme(axis_text_x=element_text(angle=25,hjust = 1))\n",
        ")\n",
        "\n",
        "g11 = pw.load_ggplot(g, figsize=(2,2))\n",
        "g11.savefig(\"figures/refManager.svg\")\n",
        "g11.savefig(\"figures/refManager.png\")"
      ]
    },
    {
      "cell_type": "code",
      "execution_count": null,
      "id": "fig-1panelA",
      "metadata": {},
      "outputs": [],
      "source": [
        "#| label: fig-1panelA\n",
        "#| fig-cap: A\n",
        "df = df.replace(np.nan, 'Zotero!', regex=True)\n",
        "g = (\n",
        "    ggplot(df, aes(x = \"Willing to change\", y = after_stat('count')))\n",
        "    + stat_bin(binwidth = 1)\n",
        "    + scale_fill_manual(values=['Purple'])\n",
        "    + theme_classic() + theme(axis_text_x=element_text(angle=25,hjust = 1))\n",
        ")\n",
        "\n",
        "g12 = pw.load_ggplot(g, figsize=(2,2))\n",
        "g12.savefig(\"figures/changeManager.svg\")\n",
        "g12.savefig(\"figures/changeManager.png\")"
      ]
    },
    {
      "cell_type": "code",
      "execution_count": null,
      "id": "ce5d31a8",
      "metadata": {},
      "outputs": [],
      "source": [
        "gManager = (g11|g12)\n",
        "gManager.savefig(\"refManagement.svg\")\n",
        "gManager.savefig(\"refManagement.png\")\n"
      ]
    },
    {
      "cell_type": "code",
      "execution_count": null,
      "id": "aa5eb257",
      "metadata": {},
      "outputs": [],
      "source": [
        "g = (\n",
        "    ggplot(dfPlot, aes(x = 'happinessValues', y = after_stat('count'), fill = 'Item'))\n",
        "    + stat_bin(binwidth = 1, position='dodge')\n",
        "    + xlim(1,5)\n",
        "    + scale_fill_manual(values=['SandyBrown', 'Purple'])\n",
        "    + theme_classic()\n",
        ")\n",
        "\n",
        "g1 = pw.load_ggplot(g, figsize=(4,2))\n",
        "g1.savefig(\"figures/happiness.svg\")\n",
        "g1.savefig(\"figures/happiness.png\")"
      ]
    },
    {
      "cell_type": "code",
      "execution_count": null,
      "id": "fig-1panelB",
      "metadata": {},
      "outputs": [],
      "source": [
        "#| label: fig-1panelB\n",
        "#| fig-cap: B\n",
        "\n",
        "g = (\n",
        "    ggplot(df, aes(x = 'writingTime', y = after_stat('count')))\n",
        "    + stat_bin(binwidth = 1)\n",
        "    + scale_fill_manual(values=['Purple'])\n",
        "    + scale_x_discrete(limits=responsesTimeSpent)\n",
        "    + theme_classic() + theme(axis_text_x=element_text(angle=25,hjust = 1))\n",
        ")\n",
        "\n",
        "g2 = pw.load_ggplot(g, figsize=(2,2))\n",
        "g2.savefig(\"figures/writingTime.svg\")\n",
        "g2.savefig(\"figures/writingTime.png\")\n"
      ]
    },
    {
      "cell_type": "code",
      "execution_count": null,
      "id": "fig-panelC",
      "metadata": {},
      "outputs": [],
      "source": [
        "#| label: fig-panelC\n",
        "#| fig-cap: C\n",
        "g= (\n",
        "    ggplot(df, aes(x = 'codingTime', y = after_stat('count')))\n",
        "    + stat_bin(binwidth = 1)\n",
        "    + scale_fill_manual(values=['Purple'])\n",
        "    + scale_x_discrete(limits=responsesTimeSpent)\n",
        "    + theme_classic() + theme(axis_text_x=element_text(angle=25,hjust = 1))\n",
        ")\n",
        "\n",
        "g3 = pw.load_ggplot(g, figsize=(2,2))\n",
        "g3.savefig(\"figures/codingTime.svg\")\n",
        "g3.savefig(\"figures/codingTime.png\")\n"
      ]
    },
    {
      "cell_type": "code",
      "execution_count": null,
      "id": "786ebc6e",
      "metadata": {},
      "outputs": [],
      "source": [
        "g12 = g1/(g2|g3)\n",
        "g12.savefig(\"happiness_timespent.svg\")\n",
        "g12.savefig(\"happiness_timespent.png\")\n",
        "\n",
        "g23 = (g2|g3)\n",
        "g23.savefig(\"timespent.png\")\n"
      ]
    },
    {
      "cell_type": "code",
      "execution_count": null,
      "id": "7bba5bc6",
      "metadata": {},
      "outputs": [],
      "source": [
        "g = (\n",
        "    ggplot(df, aes(x = \"codeEditor\", y = after_stat('count')))\n",
        "    + stat_bin(binwidth = 1)\n",
        "    + scale_fill_manual(values=['Purple'])\n",
        "    + theme_classic() + theme(axis_text_x=element_text(angle=25,hjust = 1))\n",
        ")\n",
        "\n",
        "g31 = pw.load_ggplot(g, figsize=(2,2))\n",
        "g31.savefig(\"figures/codeEditor.svg\")\n",
        "g31.savefig(\"figures/codeEditor.png\")"
      ]
    },
    {
      "cell_type": "code",
      "execution_count": null,
      "id": "d5786a03",
      "metadata": {},
      "outputs": [],
      "source": [
        "g = (\n",
        "    ggplot(df, aes(x = \"useGit\", y = after_stat('count')))\n",
        "    + stat_bin(binwidth = 1)\n",
        "    + scale_fill_manual(values=['Purple'])\n",
        "    + theme_classic() + theme(axis_text_x=element_text(angle=25,hjust = 1))\n",
        ")\n",
        "\n",
        "g32 = pw.load_ggplot(g, figsize=(2,2))\n",
        "g32.savefig(\"figures/useGit.svg\")\n",
        "g32.savefig(\"figures/useGit.png\")"
      ]
    },
    {
      "cell_type": "code",
      "execution_count": null,
      "id": "c264e808",
      "metadata": {},
      "outputs": [],
      "source": [
        "gGitCode = (g31|g32)\n",
        "gGitCode.savefig(\"GitEditor.png\")\n",
        "gGitCode.savefig(\"GitEditor.svg\")\n"
      ]
    },
    {
      "cell_type": "code",
      "execution_count": null,
      "id": "c806048f",
      "metadata": {},
      "outputs": [],
      "source": [
        "df[\"useVScode\"]= df[\"codeEditor\"].str.find(\"Visual Code\")>-1\n",
        "\n",
        "g = (\n",
        "    ggplot(df, aes(x = \"useGit\", y = \"useVScode\"))\n",
        "    + geom_bin_2d(position='identity', binwidth = 1)\n",
        "    + theme_classic() + theme(axis_text_x=element_text(angle=25,hjust = 1))\n",
        ")\n",
        "\n",
        "g33 = pw.load_ggplot(g, figsize=(2,2))\n",
        "g33.savefig(\"figures/crossGitVS.svg\")\n",
        "g33.savefig(\"figures/crossGitVS.png\")"
      ]
    }
  ],
  "metadata": {
    "kernelspec": {
      "display_name": "Python 3 (ipykernel)",
      "language": "python",
      "name": "python3"
    },
    "language_info": {
      "codemirror_mode": {
        "name": "ipython",
        "version": 3
      },
      "file_extension": ".py",
      "mimetype": "text/x-python",
      "name": "python",
      "nbconvert_exporter": "python",
      "pygments_lexer": "ipython3",
      "version": "3.8.10"
    }
  },
  "nbformat": 4,
  "nbformat_minor": 5
}
